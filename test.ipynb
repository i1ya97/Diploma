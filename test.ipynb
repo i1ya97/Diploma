{
 "cells": [
  {
   "cell_type": "code",
   "execution_count": 1,
   "metadata": {},
   "outputs": [],
   "source": [
    "import gensim\n",
    "from gensim.test.utils import common_texts\n",
    "from gensim.models import Word2Vec\n",
    "from gensim.models import KeyedVectors\n",
    "from gensim.test.utils import get_tmpfile\n",
    "import gensim.downloader as api\n",
    "import json\n",
    "\n",
    "document = open('dictionary.json')\n",
    "\n",
    "jsonData = json.load(document)\n",
    "\n",
    "data = [d for d in jsonData]\n",
    "\n",
    "def create_tagged_document(list_of_list_of_words):\n",
    "    for i, list_of_words in enumerate(list_of_list_of_words):\n",
    "        yield gensim.models.doc2vec.TaggedDocument(list_of_words, [i])\n",
    "\n",
    "train_data = list(create_tagged_document(data))\n",
    "\n",
    "model = gensim.models.doc2vec.Doc2Vec(vector_size=3, min_count=2, epochs=40)\n",
    "\n",
    "model.build_vocab(train_data)\n",
    "\n",
    "model.train(train_data, total_examples=model.corpus_count, epochs=model.epochs)\n",
    "\n",
    "fname = get_tmpfile(\"train_model\")\n",
    "\n",
    "model.save(fname)"
   ]
  },
  {
   "cell_type": "code",
   "execution_count": 19,
   "metadata": {},
   "outputs": [
    {
     "data": {
      "text/plain": [
       "[0.06819658]"
      ]
     },
     "execution_count": 19,
     "metadata": {},
     "output_type": "execute_result"
    }
   ],
   "source": [
    "from gensim.test.utils import common_texts\n",
    "from gensim.models.doc2vec import Doc2Vec, TaggedDocument\n",
    "\n",
    "fname = get_tmpfile(\"train_model\")\n",
    "\n",
    "model = Doc2Vec.load(fname)\n",
    "\n",
    "#print (model.infer_vector([\"system\"]))\n",
    "\n",
    "top = [\"zhimba\"]\n",
    "vector = []\n",
    "for x in top:\n",
    "    vector.append(model.infer_vector([x])[0])\n",
    "    \n",
    "vector"
   ]
  },
  {
   "cell_type": "code",
   "execution_count": null,
   "metadata": {},
   "outputs": [],
   "source": []
  },
  {
   "cell_type": "code",
   "execution_count": null,
   "metadata": {},
   "outputs": [],
   "source": []
  },
  {
   "cell_type": "code",
   "execution_count": null,
   "metadata": {},
   "outputs": [],
   "source": []
  }
 ],
 "metadata": {
  "kernelspec": {
   "display_name": "Python 3",
   "language": "python",
   "name": "python3"
  },
  "language_info": {
   "codemirror_mode": {
    "name": "ipython",
    "version": 3
   },
   "file_extension": ".py",
   "mimetype": "text/x-python",
   "name": "python",
   "nbconvert_exporter": "python",
   "pygments_lexer": "ipython3",
   "version": "3.8.3"
  }
 },
 "nbformat": 4,
 "nbformat_minor": 4
}
